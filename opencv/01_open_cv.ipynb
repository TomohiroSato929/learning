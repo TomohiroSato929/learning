{
 "cells": [
  {
   "cell_type": "markdown",
   "id": "2e9455e0",
   "metadata": {},
   "source": [
    "# 授業等の動画ファイルからスライドを画像で取得"
   ]
  },
  {
   "cell_type": "code",
   "execution_count": 3,
   "id": "6fd48fd6-c69b-40f7-b2f4-0ba517a58829",
   "metadata": {},
   "outputs": [],
   "source": [
    "import os\n",
    "import cv2\n",
    "import glob\n",
    "from IPython.display import Image, display\n",
    "import numpy as np\n",
    "import matplotlib.pyplot as plt"
   ]
  },
  {
   "cell_type": "markdown",
   "id": "8efbd064",
   "metadata": {},
   "source": [
    "### 動画の指定"
   ]
  },
  {
   "cell_type": "code",
   "execution_count": 4,
   "id": "33add7c1",
   "metadata": {},
   "outputs": [],
   "source": [
    "pass_mv = '動画ファイル'\n",
    "pass_img_save='画像保存先ファイル'"
   ]
  },
  {
   "cell_type": "code",
   "execution_count": 5,
   "id": "1bb3c095-4529-4f96-8dc7-c6c5fdf357ec",
   "metadata": {},
   "outputs": [
    {
     "data": {
      "text/plain": [
       "[]"
      ]
     },
     "execution_count": 5,
     "metadata": {},
     "output_type": "execute_result"
    }
   ],
   "source": [
    "mvlist=glob.glob(pass_mv + '*.mp4')\n",
    "mvlist"
   ]
  },
  {
   "cell_type": "code",
   "execution_count": 15,
   "id": "0668909f-0d74-4b24-bf6a-1697b32de340",
   "metadata": {},
   "outputs": [],
   "source": [
    "movie = mvlist[0]\n",
    "mv= cv2.VideoCapture(movie)#動画の読み込み"
   ]
  },
  {
   "cell_type": "code",
   "execution_count": 16,
   "id": "9b81b831-c4f8-47ea-8beb-b31d79dfe655",
   "metadata": {},
   "outputs": [
    {
     "name": "stdout",
     "output_type": "stream",
     "text": [
      "1920.0\n",
      "1080.0\n",
      "29.06547984617114\n"
     ]
    }
   ],
   "source": [
    "print(mv.get(cv2.CAP_PROP_FRAME_WIDTH))\n",
    "print(mv.get(cv2.CAP_PROP_FRAME_HEIGHT))\n",
    "print(mv.get(cv2.CAP_PROP_FPS))"
   ]
  },
  {
   "cell_type": "markdown",
   "id": "456d566e",
   "metadata": {},
   "source": [
    "### 検出対象の大きさ、画像の大きさ指定\n",
    "\n",
    "画面全体の　**n分の1** の大きさ"
   ]
  },
  {
   "cell_type": "code",
   "execution_count": 6,
   "id": "70e2bce4-ea6e-43f2-b7cd-66546a64d0bf",
   "metadata": {},
   "outputs": [
    {
     "name": "stdout",
     "output_type": "stream",
     "text": [
      "(480, 270)\n"
     ]
    }
   ],
   "source": [
    "size=(960, 540) # 画像の大きさ\n",
    "\n",
    "n=2\n",
    "\n",
    "move_size_x = int(size[0] / n)\n",
    "move_size_y = int(size[1] / n)\n",
    "move_size=(move_size_x,move_size_y)\n",
    "\n",
    "print(move_size)\n"
   ]
  },
  {
   "cell_type": "markdown",
   "id": "bcacc234",
   "metadata": {},
   "source": [
    " ### スライド検出"
   ]
  },
  {
   "cell_type": "code",
   "execution_count": 7,
   "id": "3077114f-bd06-47a6-a108-44ca995b33db",
   "metadata": {},
   "outputs": [
    {
     "data": {
      "text/plain": [
       "21874"
      ]
     },
     "execution_count": 7,
     "metadata": {},
     "output_type": "execute_result"
    }
   ],
   "source": [
    "frame_count =int(mv.get(cv2.CAP_PROP_FRAME_COUNT))#動画を画像にした総枚数を調べる\n",
    "frame_count"
   ]
  },
  {
   "cell_type": "code",
   "execution_count": 32,
   "id": "799efe4f-cf01-4237-b411-6fd2694daeaa",
   "metadata": {},
   "outputs": [
    {
     "name": "stdout",
     "output_type": "stream",
     "text": [
      "124331\n",
      "0\n",
      "1000\n",
      "2000\n",
      "3000\n",
      "4000\n",
      "5000\n",
      "6000\n",
      "7000\n",
      "8000\n",
      "9000\n",
      "10000\n",
      "11000\n",
      "12000\n",
      "13000\n",
      "14000\n",
      "15000\n",
      "16000\n",
      "17000\n",
      "18000\n",
      "19000\n",
      "20000\n",
      "21000\n",
      "22000\n",
      "23000\n",
      "24000\n",
      "25000\n",
      "26000\n",
      "27000\n",
      "28000\n",
      "29000\n",
      "30000\n",
      "31000\n",
      "32000\n",
      "33000\n",
      "34000\n",
      "35000\n",
      "36000\n",
      "37000\n",
      "38000\n",
      "39000\n",
      "40000\n",
      "41000\n",
      "42000\n",
      "43000\n",
      "44000\n",
      "45000\n",
      "46000\n",
      "47000\n",
      "48000\n",
      "49000\n",
      "50000\n",
      "51000\n",
      "52000\n",
      "53000\n",
      "54000\n",
      "55000\n",
      "56000\n",
      "57000\n",
      "58000\n",
      "59000\n",
      "60000\n",
      "61000\n",
      "62000\n",
      "63000\n",
      "64000\n",
      "65000\n",
      "66000\n",
      "67000\n",
      "68000\n",
      "69000\n",
      "70000\n",
      "71000\n",
      "72000\n",
      "73000\n",
      "74000\n",
      "75000\n",
      "76000\n",
      "77000\n",
      "78000\n",
      "79000\n",
      "80000\n",
      "81000\n",
      "82000\n",
      "83000\n",
      "84000\n",
      "85000\n",
      "86000\n",
      "87000\n",
      "88000\n",
      "89000\n",
      "90000\n",
      "91000\n",
      "92000\n",
      "93000\n",
      "94000\n",
      "95000\n",
      "96000\n",
      "97000\n",
      "98000\n",
      "99000\n",
      "100000\n",
      "101000\n",
      "102000\n",
      "103000\n",
      "104000\n",
      "105000\n",
      "106000\n",
      "107000\n",
      "108000\n",
      "109000\n",
      "110000\n",
      "111000\n",
      "112000\n",
      "113000\n",
      "114000\n",
      "115000\n",
      "116000\n",
      "117000\n",
      "118000\n",
      "119000\n",
      "120000\n",
      "121000\n",
      "122000\n",
      "123000\n",
      "124000\n"
     ]
    }
   ],
   "source": [
    "N=30 # フレームN個枚飛ばし\n",
    "diff=[]\n",
    "movie = mvlist[2]\n",
    "mv= cv2.VideoCapture(movie)\n",
    "frame_count =int(mv.get(cv2.CAP_PROP_FRAME_COUNT))\n",
    "print(frame_count)\n",
    "for i in range(0, frame_count):#総枚数\n",
    "    ch,frame=mv.read()#1フレーム(画像)取り出す\n",
    "    if ch==True:#取り出せたかどうかの確認\n",
    "        if i % N == 0:\n",
    "            frame=cv2.resize(frame,size)\n",
    "            if i==0:\n",
    "                bfmv=frame\n",
    "            dif=frame-bfmv\n",
    "            bfmv=frame\n",
    "            cv2.imshow('movie', frame)#表示\n",
    "            k=cv2.waitKey(1) #1ミリ秒 wait\n",
    "            diff.append(np.sum(dif))\n",
    "        \n",
    "    if i%1000==0:\n",
    "        print(i)\n",
    " \n",
    "\n",
    "    if k==27: #ESCキーを押したとき終了\n",
    "        break\n",
    "\n",
    "mv.release()\n",
    "cv2.destroyAllWindows()"
   ]
  },
  {
   "cell_type": "code",
   "execution_count": 41,
   "id": "5404a7ae",
   "metadata": {},
   "outputs": [
    {
     "data": {
      "text/plain": [
       "<matplotlib.collections.LineCollection at 0x1b12a01b3d0>"
      ]
     },
     "execution_count": 41,
     "metadata": {},
     "output_type": "execute_result"
    },
    {
     "data": {
      "image/png": "[encoded data removed]",
      "text/plain": [
       "<Figure size 432x288 with 1 Axes>"
      ]
     },
     "metadata": {
      "needs_background": "light"
     },
     "output_type": "display_data"
    }
   ],
   "source": [
    "plt.plot(diff)\n",
    "plt.hlines(y = 0.4*(10**8), xmin = 0, xmax = len(diff),color='r')"
   ]
  },
  {
   "cell_type": "code",
   "execution_count": 44,
   "id": "14234975",
   "metadata": {},
   "outputs": [
    {
     "ename": "TypeError",
     "evalue": "'>' not supported between instances of 'list' and 'float'",
     "output_type": "error",
     "traceback": [
      "\u001b[1;31m---------------------------------------------------------------------------\u001b[0m",
      "\u001b[1;31mTypeError\u001b[0m                                 Traceback (most recent call last)",
      "\u001b[1;32mセル17 を c:\\Users\\satot\\Documents\\Git\\learning\\opencv\\01_open_cv.ipynb\u001b[0m in \u001b[0;36m<cell line: 1>\u001b[1;34m()\u001b[0m\n\u001b[1;32m----> <a href='vscode-notebook-cell:/c%3A/Users/satot/Documents/Git/learning/opencv/01_open_cv.ipynb#X53sZmlsZQ%3D%3D?line=0'>1</a>\u001b[0m \u001b[39mlen\u001b[39m(dif[diff \u001b[39m>\u001b[39;49m \u001b[39m0.4\u001b[39;49m \u001b[39m*\u001b[39;49m (\u001b[39m10\u001b[39;49m\u001b[39m*\u001b[39;49m\u001b[39m*\u001b[39;49m\u001b[39m8\u001b[39;49m)])\n",
      "\u001b[1;31mTypeError\u001b[0m: '>' not supported between instances of 'list' and 'float'"
     ]
    }
   ],
   "source": [
    "len(dif[diff > 0.4 * (10**8)])"
   ]
  },
  {
   "cell_type": "code",
   "execution_count": 43,
   "id": "b1b157b7",
   "metadata": {},
   "outputs": [
    {
     "name": "stdout",
     "output_type": "stream",
     "text": [
      "124331\n",
      "0\n",
      "1\n",
      "1000\n",
      "2000\n",
      "3000\n",
      "4000\n",
      "5000\n",
      "6000\n",
      "7000\n",
      "8000\n",
      "9000\n",
      "10000\n",
      "11000\n",
      "12000\n",
      "13000\n",
      "1\n",
      "14000\n",
      "1\n",
      "1\n",
      "1\n",
      "1\n",
      "15000\n",
      "16000\n",
      "1\n",
      "17000\n",
      "18000\n",
      "19000\n",
      "20000\n",
      "21000\n",
      "1\n",
      "22000\n",
      "23000\n",
      "1\n",
      "1\n",
      "24000\n",
      "1\n",
      "25000\n",
      "26000\n",
      "1\n",
      "27000\n",
      "28000\n",
      "29000\n",
      "30000\n",
      "31000\n",
      "1\n",
      "32000\n",
      "1\n",
      "33000\n",
      "34000\n",
      "1\n",
      "35000\n",
      "36000\n",
      "37000\n",
      "38000\n",
      "39000\n",
      "40000\n",
      "1\n",
      "41000\n",
      "1\n",
      "42000\n",
      "1\n",
      "1\n",
      "1\n",
      "43000\n",
      "1\n",
      "44000\n",
      "45000\n",
      "46000\n",
      "47000\n",
      "48000\n",
      "49000\n",
      "50000\n",
      "1\n",
      "51000\n",
      "52000\n",
      "53000\n",
      "1\n",
      "54000\n",
      "55000\n",
      "56000\n",
      "57000\n",
      "58000\n",
      "59000\n",
      "1\n",
      "60000\n",
      "61000\n",
      "62000\n",
      "63000\n",
      "64000\n",
      "1\n",
      "65000\n",
      "66000\n",
      "67000\n",
      "68000\n",
      "69000\n",
      "70000\n",
      "1\n",
      "1\n",
      "71000\n",
      "72000\n",
      "73000\n",
      "74000\n",
      "75000\n",
      "76000\n",
      "1\n",
      "1\n",
      "1\n",
      "1\n",
      "1\n",
      "77000\n",
      "1\n",
      "1\n",
      "1\n",
      "78000\n",
      "1\n",
      "79000\n",
      "80000\n",
      "81000\n",
      "1\n",
      "82000\n",
      "83000\n",
      "1\n",
      "84000\n",
      "1\n",
      "85000\n",
      "86000\n",
      "1\n",
      "87000\n",
      "88000\n",
      "89000\n",
      "90000\n",
      "91000\n",
      "92000\n",
      "93000\n",
      "94000\n",
      "95000\n",
      "1\n",
      "96000\n",
      "97000\n",
      "1\n",
      "1\n",
      "1\n",
      "1\n",
      "1\n",
      "1\n",
      "1\n",
      "98000\n",
      "99000\n",
      "1\n",
      "100000\n",
      "101000\n",
      "1\n",
      "1\n",
      "1\n",
      "102000\n",
      "1\n",
      "1\n",
      "103000\n",
      "104000\n",
      "1\n",
      "1\n",
      "105000\n",
      "1\n",
      "106000\n",
      "107000\n",
      "108000\n",
      "1\n",
      "109000\n",
      "110000\n",
      "111000\n",
      "112000\n",
      "1\n",
      "1\n",
      "1\n",
      "113000\n",
      "1\n",
      "1\n",
      "1\n",
      "1\n",
      "1\n",
      "114000\n",
      "115000\n",
      "116000\n",
      "117000\n",
      "118000\n",
      "119000\n",
      "120000\n",
      "1\n",
      "121000\n",
      "1\n",
      "1\n",
      "1\n",
      "1\n",
      "122000\n",
      "123000\n",
      "124000\n"
     ]
    }
   ],
   "source": [
    "change_page = 0.4*(10**8) # 閾値確認\n",
    "\n",
    "N=30 # フレームN個枚飛ばし\n",
    "mv= cv2.VideoCapture(movie)\n",
    "frame_count =int(mv.get(cv2.CAP_PROP_FRAME_COUNT))\n",
    "print(frame_count)\n",
    "for i in range(0, frame_count):#総枚数\n",
    "    ch,frame=mv.read()#1フレーム(画像)取り出す\n",
    "    if ch==True:#取り出せたかどうかの確認\n",
    "        if i % N == 0:\n",
    "            frame=cv2.resize(frame,size)\n",
    "            if i==0:\n",
    "                bfmv=frame\n",
    "                cv2.imwrite(pass_img_save + '3-' + str(i) + '.jpg', frame)\n",
    "            dif=np.sum(frame-bfmv)\n",
    "            bfmv=frame\n",
    "            cv2.imshow('movie', frame)#表示\n",
    "            k=cv2.waitKey(1) #1ミリ秒 wait\n",
    "            if dif >= change_page:\n",
    "                print(1)\n",
    "                cv2.imwrite(pass_img_save + '3-' + str(i) + '.jpg', frame)\n",
    "        \n",
    "    if i%1000==0:\n",
    "        print(i)\n",
    " \n",
    "\n",
    "    if k==27: #ESCキーを押したとき終了\n",
    "        break\n",
    "\n",
    "mv.release()\n",
    "cv2.destroyAllWindows()"
   ]
  },
  {
   "cell_type": "code",
   "execution_count": null,
   "id": "595caeba",
   "metadata": {},
   "outputs": [],
   "source": [
    "mvlist"
   ]
  },
  {
   "cell_type": "code",
   "execution_count": null,
   "id": "0690bcf8",
   "metadata": {},
   "outputs": [],
   "source": []
  },
  {
   "cell_type": "code",
   "execution_count": null,
   "id": "b19ae75b-bfdc-4858-9ea3-6d760a70ed59",
   "metadata": {},
   "outputs": [],
   "source": []
  },
  {
   "cell_type": "code",
   "execution_count": null,
   "id": "6d79f07d-f8af-4b26-83b9-312e5b7a499e",
   "metadata": {},
   "outputs": [],
   "source": []
  },
  {
   "cell_type": "code",
   "execution_count": null,
   "id": "e2a219cc-f224-4be0-b452-0767065bc091",
   "metadata": {},
   "outputs": [],
   "source": []
  },
  {
   "cell_type": "code",
   "execution_count": null,
   "id": "6116f8bf-4454-492b-ba53-8e2fdc1e8da5",
   "metadata": {},
   "outputs": [],
   "source": []
  }
 ],
 "metadata": {
  "kernelspec": {
   "display_name": "Python 3.9.12 ('JR')",
   "language": "python",
   "name": "python3"
  },
  "language_info": {
   "codemirror_mode": {
    "name": "ipython",
    "version": 3
   },
   "file_extension": ".py",
   "mimetype": "text/x-python",
   "name": "python",
   "nbconvert_exporter": "python",
   "pygments_lexer": "ipython3",
   "version": "3.9.12"
  },
  "vscode": {
   "interpreter": {
    "hash": "82a1106526742c568b42ff60b42f84727cbbd4ffdb0c14a771df94e8c686152d"
   }
  }
 },
 "nbformat": 4,
 "nbformat_minor": 5
}
